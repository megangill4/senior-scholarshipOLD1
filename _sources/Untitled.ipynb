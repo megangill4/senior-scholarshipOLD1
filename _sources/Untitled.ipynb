{
 "cells": [
  {
   "cell_type": "markdown",
   "id": "138449a1",
   "metadata": {},
   "source": [
    "# Appendix - Ethene and Butadiene\n",
    "\n",
    "Writing code for ethene and butadiene was an important part of my senior scholarship, and while not directly relevant to other sections of my project, I have decided to include my calculations and generated plots in this appendix.\n",
    "\n",
    "## Ethene\n",
    "\n"
   ]
  }
 ],
 "metadata": {
  "kernelspec": {
   "display_name": "Python 3 (ipykernel)",
   "language": "python",
   "name": "python3"
  },
  "language_info": {
   "codemirror_mode": {
    "name": "ipython",
    "version": 3
   },
   "file_extension": ".py",
   "mimetype": "text/x-python",
   "name": "python",
   "nbconvert_exporter": "python",
   "pygments_lexer": "ipython3",
   "version": "3.9.7"
  }
 },
 "nbformat": 4,
 "nbformat_minor": 5
}
